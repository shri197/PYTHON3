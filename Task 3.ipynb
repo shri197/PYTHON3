{
 "cells": [
  {
   "cell_type": "code",
   "execution_count": 5,
   "metadata": {},
   "outputs": [
    {
     "name": "stdout",
     "output_type": "stream",
     "text": [
      "['Maths', 'Science', 'History', 'Geography']\n"
     ]
    }
   ],
   "source": [
    "#1. remove()\n",
    "Subjects = ['Maths', 'Science', 'English', 'History', 'Geography']\n",
    "\n",
    "Subjects.remove(\"English\")\n",
    "print(Subjects)"
   ]
  },
  {
   "cell_type": "code",
   "execution_count": 6,
   "metadata": {},
   "outputs": [
    {
     "name": "stdout",
     "output_type": "stream",
     "text": [
      "1\n"
     ]
    }
   ],
   "source": [
    "#2. count()\n",
    "Subjects = ['Maths', 'Science', 'English', 'History', 'Geography']\n",
    "\n",
    "a = Subjects.count(\"History\")\n",
    "print(a)"
   ]
  },
  {
   "cell_type": "code",
   "execution_count": 7,
   "metadata": {},
   "outputs": [
    {
     "name": "stdout",
     "output_type": "stream",
     "text": [
      "[]\n"
     ]
    }
   ],
   "source": [
    "#3. clear()\n",
    "Subjects = ['Maths', 'Science', 'English', 'History', 'Geography']\n",
    "\n",
    "Subjects.clear()\n",
    "print(Subjects)"
   ]
  },
  {
   "cell_type": "code",
   "execution_count": 8,
   "metadata": {},
   "outputs": [
    {
     "name": "stdout",
     "output_type": "stream",
     "text": [
      "['English', 'Geography', 'History', 'Maths', 'Science']\n"
     ]
    }
   ],
   "source": [
    "#4. sort()\n",
    "Subjects = ['Maths', 'Science', 'English', 'History', 'Geography']\n",
    "\n",
    "Subjects.sort()\n",
    "print(Subjects)"
   ]
  },
  {
   "cell_type": "code",
   "execution_count": 9,
   "metadata": {},
   "outputs": [
    {
     "name": "stdout",
     "output_type": "stream",
     "text": [
      "['Geography', 'History', 'English', 'Science', 'Maths']\n"
     ]
    }
   ],
   "source": [
    "#5. reverse()\n",
    "Subjects = ['Maths', 'Science', 'English', 'History', 'Geography']\n",
    "\n",
    "Subjects.reverse()\n",
    "print(Subjects)"
   ]
  },
  {
   "cell_type": "code",
   "execution_count": null,
   "metadata": {},
   "outputs": [],
   "source": []
  }
 ],
 "metadata": {
  "kernelspec": {
   "display_name": "Python 3",
   "language": "python",
   "name": "python3"
  },
  "language_info": {
   "codemirror_mode": {
    "name": "ipython",
    "version": 3
   },
   "file_extension": ".py",
   "mimetype": "text/x-python",
   "name": "python",
   "nbconvert_exporter": "python",
   "pygments_lexer": "ipython3",
   "version": "3.8.3"
  }
 },
 "nbformat": 4,
 "nbformat_minor": 4
}
